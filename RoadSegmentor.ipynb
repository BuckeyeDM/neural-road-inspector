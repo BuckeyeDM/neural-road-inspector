{
 "cells": [
  {
   "cell_type": "code",
   "execution_count": 1,
   "metadata": {
    "collapsed": false
   },
   "outputs": [
    {
     "name": "stderr",
     "output_type": "stream",
     "text": [
      "Using TensorFlow backend.\n",
      "//anaconda/lib/python2.7/site-packages/matplotlib/font_manager.py:273: UserWarning: Matplotlib is building the font cache using fc-list. This may take a moment.\n",
      "  warnings.warn('Matplotlib is building the font cache using fc-list. This may take a moment.')\n"
     ]
    }
   ],
   "source": [
    "import numpy as np\n",
    "import pandas as pd\n",
    "from keras.models import *\n",
    "from keras.layers import Input, merge, Conv2D, MaxPooling2D, UpSampling2D, Dropout, Cropping2D\n",
    "from keras.optimizers import *\n",
    "from keras.callbacks import ModelCheckpoint, LearningRateScheduler, EarlyStopping, ReduceLROnPlateau\n",
    "\n",
    "from datetime import datetime\n",
    "import time\n",
    "import sys\n",
    "import configparser\n",
    "import json\n",
    "import pickle\n",
    "\n",
    "import matplotlib.pyplot as plt\n",
    "#%matplotlib inline\n",
    "\n",
    "from unet.unet import *\n",
    "from unet.generator import *\n",
    "from unet.loss import *\n",
    "from unet.maskprocessor import *\n",
    "from unet.visualization import *"
   ]
  },
  {
   "cell_type": "markdown",
   "metadata": {},
   "source": [
    "This notebook runs the model training.  It takes the config file via command line parameter.  If run this notebook directly, please manually set config_file to point to your configuration file.  See cfg/*.cfg for examples."
   ]
  },
  {
   "cell_type": "code",
   "execution_count": 4,
   "metadata": {
    "collapsed": false
   },
   "outputs": [
    {
     "name": "stdout",
     "output_type": "stream",
     "text": [
      "reading configurations from config file: cfg/default.cfg\n",
      "x_data_dir: /Users/jkwok/Documents/Insight/tools/jTileDownloader 2/mapbox-sat@2x/\n",
      "y_data_dir: /Users/jkwok/Documents/Insight/tools/jTileDownloader 2/mapbox-st@2x/\n",
      "('model configuration options:', [u'id', u'optimizer', u'learning_rate', u'max_epoch', u'batch_size', u'model_dir'])\n",
      "model_dir: /Users/jkwok/Documents/Insights/models/\n",
      "model: Unet_Dilated\n",
      "learning rate: 0.0001\n",
      "max epoch: 32\n",
      "batch size: 16\n"
     ]
    },
    {
     "name": "stderr",
     "output_type": "stream",
     "text": [
      "/anaconda/lib/python2.7/site-packages/ipykernel/__main__.py:12: DeprecationWarning: You passed a bytestring as `filenames`. This will not work on Python 3. Use `cp.read_file()` or switch to using Unicode strings across the board.\n"
     ]
    }
   ],
   "source": [
    "# command line args processing \"python RoadSegmentor.py cfg/3.cfg\"\n",
    "if len(sys.argv) > 1 and '.cfg' in sys.argv[1]:\n",
    "    config_file = sys.argv[1]\n",
    "else:\n",
    "    config_file = 'cfg/default.cfg'\n",
    "    #print('missing argument. please provide config file as argument. syntax: python RoadSegmentor.py <config_file>')\n",
    "    #exit(0)\n",
    "\n",
    "print('reading configurations from config file: {}'.format(config_file))\n",
    "\n",
    "settings = configparser.ConfigParser()\n",
    "settings.read(config_file)\n",
    "\n",
    "x_data_dir = settings.get('data', 'train_x_dir')\n",
    "y_data_dir = settings.get('data', 'train_y_dir')\n",
    "print('x_data_dir: {}'.format(x_data_dir))\n",
    "print('y_data_dir: {}'.format(y_data_dir))\n",
    "\n",
    "data_csv_path = settings.get('data', 'train_list_csv')\n",
    "\n",
    "print('model configuration options:', settings.options(\"model\"))\n",
    "\n",
    "model_dir = settings.get('model', 'model_dir')\n",
    "print('model_dir: {}'.format(model_dir))\n",
    "\n",
    "timestr = time.strftime(\"%Y%m%d-%H%M%S\")\n",
    "\n",
    "model_id = settings.get('model', 'id')\n",
    "print('model: {}'.format(model_id))\n",
    "\n",
    "optimizer_label = 'Adam' # default\n",
    "\n",
    "if settings.has_option('model', 'optimizer'):\n",
    "    optimizer_label = settings.get('model', 'optimizer')\n",
    "    \n",
    "if settings.has_option('model', 'source'):\n",
    "    model_file = settings.get('model', 'source')\n",
    "    print('model_file: {}'.format(model_file))\n",
    "else:\n",
    "    model_file = None\n",
    "\n",
    "learning_rate = settings.getfloat('model', 'learning_rate')\n",
    "max_number_epoch = settings.getint('model', 'max_epoch')\n",
    "print('learning rate: {}'.format(learning_rate))\n",
    "print('max epoch: {}'.format(max_number_epoch))\n",
    "\n",
    "batch_size = settings.getint('model', 'batch_size') \n",
    "print('batch size: {}'.format(batch_size))"
   ]
  },
  {
   "cell_type": "code",
   "execution_count": 5,
   "metadata": {
    "collapsed": false
   },
   "outputs": [],
   "source": [
    "img_gen = CustomImgGenerator(x_data_dir, y_data_dir, data_csv_path)\n",
    "\n",
    "train_gen = img_gen.trainGen(batch_size=batch_size, is_Validation=False)\n",
    "\n",
    "validation_gen = img_gen.trainGen(batch_size=batch_size, is_Validation=True)"
   ]
  },
  {
   "cell_type": "code",
   "execution_count": 6,
   "metadata": {
    "collapsed": false
   },
   "outputs": [
    {
     "name": "stdout",
     "output_type": "stream",
     "text": [
      "model checkpoint file path: /Users/jkwok/Documents/Insights/models/Unet_Dilated-20170917-152238.hdf5\n"
     ]
    }
   ],
   "source": [
    "timestr = time.strftime(\"%Y%m%d-%H%M%S\")\n",
    "model_filename = model_dir + '{}-{}.hdf5'.format(model_id, timestr)\n",
    "print('model checkpoint file path: {}'.format(model_filename))\n",
    "\n",
    "# Early stopping prevents overfitting on training data\n",
    "# Make sure the patience value for EarlyStopping > patience value for ReduceLROnPlateau. \n",
    "# Otherwise ReduceLROnPlateau will never be called.\n",
    "early_stop = EarlyStopping(monitor='val_loss',\n",
    "                           patience=3,\n",
    "                           min_delta=0, \n",
    "                           verbose=1,\n",
    "                           mode='auto')\n",
    "\n",
    "model_checkpoint = ModelCheckpoint(model_filename,\n",
    "                                   monitor='val_loss',\n",
    "                                   verbose=1,\n",
    "                                   save_best_only=True)\n",
    "\n",
    "reduceLR = ReduceLROnPlateau(monitor='val_loss',\n",
    "                             factor=0.1,\n",
    "                             patience=2,\n",
    "                             verbose=1,\n",
    "                             min_lr=0.000001,\n",
    "                             epsilon=1e-4)\n"
   ]
  },
  {
   "cell_type": "code",
   "execution_count": 7,
   "metadata": {
    "collapsed": false
   },
   "outputs": [
    {
     "name": "stdout",
     "output_type": "stream",
     "text": [
      "____________________________________________________________________________________________________\n",
      "Layer (type)                     Output Shape          Param #     Connected to                     \n",
      "====================================================================================================\n",
      "input_1 (InputLayer)             (None, 512, 512, 3)   0                                            \n",
      "____________________________________________________________________________________________________\n",
      "conv2d_1 (Conv2D)                (None, 512, 512, 32)  896         input_1[0][0]                    \n",
      "____________________________________________________________________________________________________\n",
      "conv2d_2 (Conv2D)                (None, 512, 512, 32)  9248        conv2d_1[0][0]                   \n",
      "____________________________________________________________________________________________________\n",
      "max_pooling2d_1 (MaxPooling2D)   (None, 256, 256, 32)  0           conv2d_2[0][0]                   \n",
      "____________________________________________________________________________________________________\n",
      "conv2d_3 (Conv2D)                (None, 256, 256, 64)  18496       max_pooling2d_1[0][0]            \n",
      "____________________________________________________________________________________________________\n",
      "conv2d_4 (Conv2D)                (None, 256, 256, 64)  36928       conv2d_3[0][0]                   \n",
      "____________________________________________________________________________________________________\n",
      "max_pooling2d_2 (MaxPooling2D)   (None, 128, 128, 64)  0           conv2d_4[0][0]                   \n",
      "____________________________________________________________________________________________________\n",
      "conv2d_5 (Conv2D)                (None, 128, 128, 128) 73856       max_pooling2d_2[0][0]            \n",
      "____________________________________________________________________________________________________\n",
      "conv2d_6 (Conv2D)                (None, 128, 128, 128) 147584      conv2d_5[0][0]                   \n",
      "____________________________________________________________________________________________________\n",
      "max_pooling2d_3 (MaxPooling2D)   (None, 64, 64, 128)   0           conv2d_6[0][0]                   \n",
      "____________________________________________________________________________________________________\n",
      "conv2d_7 (Conv2D)                (None, 64, 64, 256)   295168      max_pooling2d_3[0][0]            \n",
      "____________________________________________________________________________________________________\n",
      "conv2d_8 (Conv2D)                (None, 64, 64, 256)   590080      conv2d_7[0][0]                   \n",
      "____________________________________________________________________________________________________\n",
      "max_pooling2d_4 (MaxPooling2D)   (None, 32, 32, 256)   0           conv2d_8[0][0]                   \n",
      "____________________________________________________________________________________________________\n",
      "conv2d_9 (Conv2D)                (None, 32, 32, 512)   1180160     max_pooling2d_4[0][0]            \n",
      "____________________________________________________________________________________________________\n",
      "conv2d_10 (Conv2D)               (None, 32, 32, 512)   2359808     conv2d_9[0][0]                   \n",
      "____________________________________________________________________________________________________\n",
      "up_sampling2d_1 (UpSampling2D)   (None, 64, 64, 512)   0           conv2d_10[0][0]                  \n",
      "____________________________________________________________________________________________________\n",
      "concatenate_1 (Concatenate)      (None, 64, 64, 768)   0           up_sampling2d_1[0][0]            \n",
      "                                                                   conv2d_8[0][0]                   \n",
      "____________________________________________________________________________________________________\n",
      "conv2d_11 (Conv2D)               (None, 64, 64, 256)   1769728     concatenate_1[0][0]              \n",
      "____________________________________________________________________________________________________\n",
      "conv2d_12 (Conv2D)               (None, 64, 64, 256)   590080      conv2d_11[0][0]                  \n",
      "____________________________________________________________________________________________________\n",
      "up_sampling2d_2 (UpSampling2D)   (None, 128, 128, 256) 0           conv2d_12[0][0]                  \n",
      "____________________________________________________________________________________________________\n",
      "concatenate_2 (Concatenate)      (None, 128, 128, 384) 0           up_sampling2d_2[0][0]            \n",
      "                                                                   conv2d_6[0][0]                   \n",
      "____________________________________________________________________________________________________\n",
      "conv2d_13 (Conv2D)               (None, 128, 128, 128) 442496      concatenate_2[0][0]              \n",
      "____________________________________________________________________________________________________\n",
      "conv2d_14 (Conv2D)               (None, 128, 128, 128) 147584      conv2d_13[0][0]                  \n",
      "____________________________________________________________________________________________________\n",
      "up_sampling2d_3 (UpSampling2D)   (None, 256, 256, 128) 0           conv2d_14[0][0]                  \n",
      "____________________________________________________________________________________________________\n",
      "concatenate_3 (Concatenate)      (None, 256, 256, 192) 0           up_sampling2d_3[0][0]            \n",
      "                                                                   conv2d_4[0][0]                   \n",
      "____________________________________________________________________________________________________\n",
      "conv2d_15 (Conv2D)               (None, 256, 256, 64)  110656      concatenate_3[0][0]              \n",
      "____________________________________________________________________________________________________\n",
      "conv2d_16 (Conv2D)               (None, 256, 256, 64)  36928       conv2d_15[0][0]                  \n",
      "____________________________________________________________________________________________________\n",
      "up_sampling2d_4 (UpSampling2D)   (None, 512, 512, 64)  0           conv2d_16[0][0]                  \n",
      "____________________________________________________________________________________________________\n",
      "concatenate_4 (Concatenate)      (None, 512, 512, 96)  0           up_sampling2d_4[0][0]            \n",
      "                                                                   conv2d_2[0][0]                   \n",
      "____________________________________________________________________________________________________\n",
      "conv2d_17 (Conv2D)               (None, 512, 512, 32)  27680       concatenate_4[0][0]              \n",
      "____________________________________________________________________________________________________\n",
      "conv2d_18 (Conv2D)               (None, 512, 512, 32)  9248        conv2d_17[0][0]                  \n",
      "____________________________________________________________________________________________________\n",
      "conv2d_19 (Conv2D)               (None, 512, 512, 1)   33          conv2d_18[0][0]                  \n",
      "====================================================================================================\n",
      "Total params: 7,846,657\n",
      "Trainable params: 7,846,657\n",
      "Non-trainable params: 0\n",
      "____________________________________________________________________________________________________\n",
      "None\n"
     ]
    }
   ],
   "source": [
    "training_start_time = datetime.now()\n",
    "\n",
    "number_validations = img_gen.validation_samples_count()\n",
    "\n",
    "samples_per_epoch = img_gen.training_samples_count()\n",
    "\n",
    "unet = Unet(num_channels = 3, \n",
    "            img_rows = 512,\n",
    "            img_cols = 512)\n",
    "\n",
    "if model_file is not None:\n",
    "    model = load_model(model_dir + model_file,\n",
    "                  custom_objects={'dice_coef_loss': dice_coef_loss, \n",
    "                                  'dice_coef': dice_coef, \n",
    "                                  'binary_crossentropy_dice_loss': binary_crossentropy_dice_loss})\n",
    "else:\n",
    "    model = unet.get_model(model_id)\n",
    "\n",
    "print(model.summary())\n",
    "\n",
    "if optimizer_label == 'Adam':\n",
    "    optimizer = Adam(lr = learning_rate)\n",
    "elif optimizer_label == 'RMSprop':\n",
    "    optimizer = RMSprop(lr = learning_rate)\n",
    "else:\n",
    "    raise ValueError('unsupported optimizer: {}'.format(optimizer_label))\n",
    "\n",
    "model.compile(optimizer = optimizer,\n",
    "              loss = dice_coef_loss,\n",
    "              metrics = ['accuracy', dice_coef])"
   ]
  },
  {
   "cell_type": "code",
   "execution_count": null,
   "metadata": {
    "collapsed": false
   },
   "outputs": [
    {
     "name": "stdout",
     "output_type": "stream",
     "text": [
      "Epoch 1/32\n"
     ]
    }
   ],
   "source": [
    "history = model.fit_generator(generator=train_gen,\n",
    "                              steps_per_epoch=np.ceil(float(samples_per_epoch) / float(batch_size)),\n",
    "                              validation_data=validation_gen,\n",
    "                              validation_steps=np.ceil(float(number_validations) / float(batch_size)),\n",
    "                              epochs=max_number_epoch,\n",
    "                              verbose=1,\n",
    "                              callbacks=[model_checkpoint, early_stop, reduceLR])\n",
    "\n",
    "time_spent_trianing = datetime.now() - training_start_time\n",
    "print('model training complete. time spent: {}'.format(time_spent_trianing))"
   ]
  },
  {
   "cell_type": "code",
   "execution_count": null,
   "metadata": {
    "collapsed": true
   },
   "outputs": [],
   "source": [
    "stout_dir = 'stout/'\n",
    "\n",
    "historyFilePath = stout_dir + '{}-{}-train-history.png'.format(model_id, timestr)\n",
    "trainingHistoryPlot(historyFilePath, history.history)\n",
    "\n",
    "pickleFilePath = stout_dir + '{}-{}-history-dict.pickle'.format(model_id, timestr)\n",
    "with open(pickleFilePath, 'wb') as handle:\n",
    "    pickle.dump(history.history, handle, protocol=pickle.HIGHEST_PROTOCOL)"
   ]
  }
 ],
 "metadata": {
  "anaconda-cloud": {},
  "kernelspec": {
   "display_name": "Python [Root]",
   "language": "python",
   "name": "Python [Root]"
  },
  "language_info": {
   "codemirror_mode": {
    "name": "ipython",
    "version": 2
   },
   "file_extension": ".py",
   "mimetype": "text/x-python",
   "name": "python",
   "nbconvert_exporter": "python",
   "pygments_lexer": "ipython2",
   "version": "2.7.12"
  }
 },
 "nbformat": 4,
 "nbformat_minor": 0
}
