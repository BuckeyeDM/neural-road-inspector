{
 "cells": [
  {
   "cell_type": "code",
   "execution_count": null,
   "metadata": {
    "collapsed": false
   },
   "outputs": [],
   "source": [
    "import os\n",
    "import sys\n",
    "module_path = os.path.abspath(os.path.join('..'))\n",
    "if module_path not in sys.path:\n",
    "    sys.path.append(module_path)\n",
    "from unet.maskprocessor import *"
   ]
  },
  {
   "cell_type": "markdown",
   "metadata": {},
   "source": [
    "To run this notebook, you must set your mapbox access token into your OS environment variable named MAPBOX_ACCESS_TOKEN.  If you are on MacOS or Linux, you can add a line into ~/.bash_profile"
   ]
  },
  {
   "cell_type": "code",
   "execution_count": null,
   "metadata": {
    "collapsed": true
   },
   "outputs": [],
   "source": [
    "zoom_level = 16\n",
    "latitude = 29.77\n",
    "#latitude = 29.7604\n",
    "longitude = -95.3698"
   ]
  },
  {
   "cell_type": "code",
   "execution_count": null,
   "metadata": {
    "collapsed": false
   },
   "outputs": [],
   "source": [
    "from mapbox import StaticStyle\n",
    "\n",
    "service = StaticStyle()\n",
    "service.session.params['access_token'] = os.environ['MAPBOX_ACCESS_TOKEN']\n",
    "\n",
    "response = service.image(\n",
    "    username='mapbox',\n",
    "    style_id='streets-v9',\n",
    "    lon=longitude, lat=latitude, zoom=zoom_level)\n",
    "\n",
    "response.status_code\n",
    "\n",
    "response.headers['Content-Type']\n",
    "\n",
    "with open('./tmp/static.png', 'wb') as output:\n",
    "    _ = output.write(response.content)"
   ]
  },
  {
   "cell_type": "code",
   "execution_count": null,
   "metadata": {
    "collapsed": false
   },
   "outputs": [],
   "source": [
    "#satellite\n",
    "response = service.image(\n",
    "    username='mapbox',\n",
    "    style_id='satellite-v9',\n",
    "    lon=longitude, lat=latitude, zoom=zoom_level)\n",
    "\n",
    "response.status_code\n",
    "\n",
    "response.headers['Content-Type']\n",
    "\n",
    "with open('./tmp/static_sat.png', 'wb') as output:\n",
    "    _ = output.write(response.content)"
   ]
  },
  {
   "cell_type": "code",
   "execution_count": null,
   "metadata": {
    "collapsed": true
   },
   "outputs": [],
   "source": [
    "# satellite-streets-v10\n",
    "response = service.image(\n",
    "    username='mapbox',\n",
    "    style_id='satellite-streets-v10',\n",
    "    lon=longitude, lat=latitude, zoom=zoom_level)\n",
    "\n",
    "response.status_code\n",
    "\n",
    "response.headers['Content-Type']\n",
    "\n",
    "with open('./tmp/static_sat_st.png', 'wb') as output:\n",
    "    _ = output.write(response.content)"
   ]
  },
  {
   "cell_type": "code",
   "execution_count": null,
   "metadata": {
    "collapsed": true
   },
   "outputs": [],
   "source": [
    "# light\n",
    "response = service.image(\n",
    "    username='mapbox',\n",
    "    style_id='light-v9',\n",
    "    lon=longitude, lat=latitude, zoom=zoom_level)\n",
    "\n",
    "response.status_code\n",
    "\n",
    "response.headers['Content-Type']\n",
    "\n",
    "with open('./tmp/static_light.png', 'wb') as output:\n",
    "    _ = output.write(response.content)"
   ]
  },
  {
   "cell_type": "code",
   "execution_count": null,
   "metadata": {
    "collapsed": false
   },
   "outputs": [],
   "source": [
    "import cv2\n",
    "import numpy as np\n",
    "from matplotlib import pyplot as plt\n",
    "%matplotlib inline\n",
    "\n",
    "street_tile_img = cv2.imread('./tmp/static.png', cv2.IMREAD_UNCHANGED)\n",
    "#cv2.imshow('street',street_tile_img)\n",
    "\n",
    "new_style = {'grid': False}\n",
    "# visualize\n",
    "plt.imshow(cv2.cvtColor(street_tile_img, cv2.COLOR_BGR2RGB))\n",
    "plt.title('street tile')\n"
   ]
  },
  {
   "cell_type": "code",
   "execution_count": null,
   "metadata": {
    "collapsed": false
   },
   "outputs": [],
   "source": [
    "np.unique(street_tile_img[:,:,2])"
   ]
  },
  {
   "cell_type": "code",
   "execution_count": null,
   "metadata": {
    "collapsed": false
   },
   "outputs": [],
   "source": [
    "from matplotlib import pyplot as plt\n",
    "\n",
    "img = cv2.imread('./tmp/static.png', cv2.IMREAD_UNCHANGED)\n",
    "color = ('b','g','r')\n",
    "for i,col in enumerate(color):\n",
    "     histr = cv2.calcHist([img],[i],None,[256],[0,256])\n",
    "     plt.plot(histr,color = col)\n",
    "     plt.xlim([0,256])\n",
    "     plt.show()\n"
   ]
  },
  {
   "cell_type": "code",
   "execution_count": null,
   "metadata": {
    "collapsed": false
   },
   "outputs": [],
   "source": [
    "img.shape"
   ]
  },
  {
   "cell_type": "code",
   "execution_count": null,
   "metadata": {
    "collapsed": false
   },
   "outputs": [],
   "source": [
    "\n",
    "\n",
    "super_mask = get_street_mask(img)\n",
    "print(np.unique(super_mask))\n",
    "\n",
    "plt.imshow(super_mask, cmap=plt.cm.binary)\n",
    "new_style = {'grid': False}"
   ]
  },
  {
   "cell_type": "code",
   "execution_count": null,
   "metadata": {
    "collapsed": false
   },
   "outputs": [],
   "source": [
    "#super_mask.shape\n",
    "test_mask = np.expand_dims(super_mask, axis=2)\n",
    "print(test_mask.shape)"
   ]
  },
  {
   "cell_type": "code",
   "execution_count": null,
   "metadata": {
    "collapsed": false
   },
   "outputs": [],
   "source": [
    "img = cv2.imread('./tmp/custom_street.png', cv2.IMREAD_UNCHANGED)\n",
    "\n",
    "super_mask = get_street_mask(img)\n",
    "print(np.unique(super_mask))\n",
    "\n",
    "plt.imshow(super_mask, cmap=plt.cm.binary)\n",
    "new_style = {'grid': False}"
   ]
  },
  {
   "cell_type": "code",
   "execution_count": null,
   "metadata": {
    "collapsed": true
   },
   "outputs": [],
   "source": []
  }
 ],
 "metadata": {
  "anaconda-cloud": {},
  "kernelspec": {
   "display_name": "Python [Root]",
   "language": "python",
   "name": "Python [Root]"
  },
  "language_info": {
   "codemirror_mode": {
    "name": "ipython",
    "version": 2
   },
   "file_extension": ".py",
   "mimetype": "text/x-python",
   "name": "python",
   "nbconvert_exporter": "python",
   "pygments_lexer": "ipython2",
   "version": "2.7.12"
  }
 },
 "nbformat": 4,
 "nbformat_minor": 0
}
